{
 "cells": [
  {
   "cell_type": "code",
   "execution_count": 1,
   "metadata": {},
   "outputs": [],
   "source": [
    "import numpy as np"
   ]
  },
  {
   "cell_type": "code",
   "execution_count": 2,
   "metadata": {},
   "outputs": [
    {
     "name": "stdout",
     "output_type": "stream",
     "text": [
      "A = [[1 2]\n",
      " [3 4]\n",
      " [5 6]]\n",
      "B = [[11 12]\n",
      " [13 14]\n",
      " [15 16]]\n"
     ]
    }
   ],
   "source": [
    "a=[[1,2], [3,4], [5,6]]\n",
    "A=np.array(a)\n",
    "B=np.add(A,10)\n",
    "\n",
    "print(\"A = \" + str(A))\n",
    "print(\"B = \" + str(B))\n"
   ]
  },
  {
   "cell_type": "code",
   "execution_count": 9,
   "metadata": {},
   "outputs": [
    {
     "name": "stdout",
     "output_type": "stream",
     "text": [
      "np.vstack((fit, ploty) = [[ 1  2  3  4]\n",
      " [11 12 13 14]]\n",
      "shape(np.vstack(fit, ploty)) = (2, 4)\n",
      "np.vstack(fit, ploty).T = [[ 1 11]\n",
      " [ 2 12]\n",
      " [ 3 13]\n",
      " [ 4 14]]\n"
     ]
    }
   ],
   "source": [
    "fit = [1, 2, 3, 4]\n",
    "ploty = np.add(fit, 10)\n",
    "\n",
    "vsFP = np.vstack([fit, ploty])\n",
    "print(\"np.vstack((fit, ploty) = \"+ str(vsFP))\n",
    "print(\"shape(np.vstack(fit, ploty)) = \"+ str(vsFP.shape))\n",
    "print(\"np.vstack(fit, ploty).T = \"+ str(vsFP.T))\n"
   ]
  },
  {
   "cell_type": "code",
   "execution_count": 4,
   "metadata": {},
   "outputs": [
    {
     "name": "stdout",
     "output_type": "stream",
     "text": [
      "hstack(A,B) => [[ 1  2 11 12]\n",
      " [ 3  4 13 14]\n",
      " [ 5  6 15 16]]\n",
      "vstack(A,B) => [[ 1  2]\n",
      " [ 3  4]\n",
      " [ 5  6]\n",
      " [11 12]\n",
      " [13 14]\n",
      " [15 16]]\n",
      "dstack(A,B) => [[[ 1 11]\n",
      "  [ 2 12]]\n",
      "\n",
      " [[ 3 13]\n",
      "  [ 4 14]]\n",
      "\n",
      " [[ 5 15]\n",
      "  [ 6 16]]]\n"
     ]
    }
   ],
   "source": [
    "print(\"hstack(A,B) => \" + str(np.hstack((A,B))))\n",
    "print(\"vstack(A,B) => \" + str(np.vstack((A,B))))\n",
    "print(\"dstack(A,B) => \" + str(np.dstack((A,B))))"
   ]
  },
  {
   "cell_type": "code",
   "execution_count": 10,
   "metadata": {},
   "outputs": [],
   "source": [
    "C = np.array([1,2,3,4,5,6])\n",
    "D = np.add(C,10)"
   ]
  },
  {
   "cell_type": "code",
   "execution_count": 14,
   "metadata": {},
   "outputs": [
    {
     "name": "stdout",
     "output_type": "stream",
     "text": [
      "ret = [[[ 1  3  5 11 13 15]]\n",
      "\n",
      " [[ 2  4  6 12 14 16]]]\n",
      "ret.shape =(2, 1, 6)\n"
     ]
    }
   ],
   "source": [
    "ret = np.transpose(np.vstack((C,D)).reshape((-1,1,2))\n",
    "print(\"ret = \" + str(ret))\n",
    "print(\"ret.shape =\" + str(ret.shape))"
   ]
  },
  {
   "cell_type": "code",
   "execution_count": null,
   "metadata": {},
   "outputs": [],
   "source": []
  }
 ],
 "metadata": {
  "kernelspec": {
   "display_name": "Python 3",
   "language": "python",
   "name": "python3"
  },
  "language_info": {
   "codemirror_mode": {
    "name": "ipython",
    "version": 3
   },
   "file_extension": ".py",
   "mimetype": "text/x-python",
   "name": "python",
   "nbconvert_exporter": "python",
   "pygments_lexer": "ipython3",
   "version": "3.5.2"
  },
  "widgets": {
   "state": {},
   "version": "1.1.2"
  }
 },
 "nbformat": 4,
 "nbformat_minor": 2
}
