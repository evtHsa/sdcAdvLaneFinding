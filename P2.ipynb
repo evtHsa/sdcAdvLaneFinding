{
 "cells": [
  {
   "cell_type": "markdown",
   "metadata": {},
   "source": [
    "# Self-Driving Car Engineer Nanodegree\n",
    "\n",
    "\n",
    "## Project: **Finding Lane Lines on the Road** \n",
    "***\n",
    "In this project, you will use the tools you learned about in the lesson to identify lane lines on the road.  You can develop your pipeline on a series of individual images, and later apply the result to a video stream (really just a series of images). Check out the video clip \"raw-lines-example.mp4\" (also contained in this repository) to see what the output should look like after using the helper functions below. \n",
    "\n",
    "Once you have a result that looks roughly like \"raw-lines-example.mp4\", you'll need to get creative and try to average and/or extrapolate the line segments you've detected to map out the full extent of the lane lines.  You can see an example of the result you're going for in the video \"P1_example.mp4\".  Ultimately, you would like to draw just one line for the left side of the lane, and one for the right.\n",
    "\n",
    "In addition to implementing code, there is a brief writeup to complete. The writeup should be completed in a separate file, which can be either a markdown file or a pdf document. There is a [write up template](https://github.com/udacity/CarND-LaneLines-P1/blob/master/writeup_template.md) that can be used to guide the writing process. Completing both the code in the Ipython notebook and the writeup template will cover all of the [rubric points](https://review.udacity.com/#!/rubrics/322/view) for this project.\n",
    "\n",
    "---\n",
    "Let's have a look at our first image called 'test_images/solidWhiteRight.jpg'.  Run the 2 cells below (hit Shift-Enter or the \"play\" button above) to display the image.\n",
    "\n",
    "**Note: If, at any point, you encounter frozen display windows or other confounding issues, you can always start again with a clean slate by going to the \"Kernel\" menu above and selecting \"Restart & Clear Output\".**\n",
    "\n",
    "---"
   ]
  },
  {
   "cell_type": "code",
   "execution_count": 10,
   "metadata": {},
   "outputs": [],
   "source": [
    "import util as ut\n",
    "import ImgViewer as iv\n",
    "import cv2\n",
    "import numpy as np\n",
    "# ImgUtil provides all utility functions for image manipulation\n",
    "import ImgUtil as iu\n",
    "# image view provides a mechanism(mostly for debug)to push images as a pipeline is being developed and \n",
    "# see then 3 x 3 or more at a time \n",
    "import ImgViewer as iv\n",
    "# LaneUtils implements the core of our object model and various \"lane focused\" things\n",
    "# Lanes:  contain LaneBoundary(s) and attributes common to both boundaries\n",
    "# LaneBoundary(s): contain attributes for a particular lane bounday\n",
    "# Windows: are used to calculate lane boundariesimport LaneUtils as lu\n",
    "import LaneUtils as lu"
   ]
  },
  {
   "cell_type": "code",
   "execution_count": 12,
   "metadata": {},
   "outputs": [
    {
     "name": "stdout",
     "output_type": "stream",
     "text": [
      "findChessboardCorners(camera_cal/calibration5.jpg) failed\n",
      "findChessboardCorners(camera_cal/calibration1.jpg) failed\n",
      "findChessboardCorners(camera_cal/calibration4.jpg) failed\n",
      "WARNING: only using 1 files from test_images/\n",
      "check the test_out directory\n"
     ]
    }
   ],
   "source": [
    "#\n",
    "# run with the viewer enabled almost everywhere to see the output of each stage of the image pipeline\n",
    "#\n",
    "\n",
    "#cd is cache_dict, pd is parm_dict\n",
    "cd, pd = ut.app_init(viewer=True, saver=True, title=\"whatever\")\n",
    "vwr = cd['viewer']\n",
    "\n",
    "def doit():\n",
    "    lane = lu.Lane(cd, pd, vwr=vwr)\n",
    "\n",
    "    for path in ut.get_fnames(\"test_images/\", \"*.jpg\", max=1): # stop at 1 iter to gather pipe stages 4 writepup\n",
    "        in_img = iu.imRead(path, reader='cv2', vwr=vwr)\n",
    "        out_img= lane.lane_finder_pipe(in_img, cd, pd, vwr=vwr)\n",
    "    print(\"check the test_out directory\")\n",
    "\n",
    "doit()"
   ]
  },
  {
   "cell_type": "code",
   "execution_count": null,
   "metadata": {},
   "outputs": [],
   "source": []
  }
 ],
 "metadata": {
  "anaconda-cloud": {},
  "kernelspec": {
   "display_name": "Python 3",
   "language": "python",
   "name": "python3"
  },
  "language_info": {
   "codemirror_mode": {
    "name": "ipython",
    "version": 3
   },
   "file_extension": ".py",
   "mimetype": "text/x-python",
   "name": "python",
   "nbconvert_exporter": "python",
   "pygments_lexer": "ipython3",
   "version": "3.5.2"
  },
  "widgets": {
   "state": {},
   "version": "1.1.2"
  }
 },
 "nbformat": 4,
 "nbformat_minor": 1
}
